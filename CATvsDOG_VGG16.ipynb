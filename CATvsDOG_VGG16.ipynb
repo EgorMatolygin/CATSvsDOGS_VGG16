{
 "cells": [
  {
   "cell_type": "code",
   "execution_count": null,
   "metadata": {
    "id": "MsoZwNBTeSJ0"
   },
   "outputs": [],
   "source": [
    "from keras.preprocessing.image import ImageDataGenerator\n",
    "from keras.preprocessing import image\n",
    "from keras.applications import imagenet_utils\n",
    "from keras.applications import vgg16\n",
    "from keras.applications import mobilenet\n",
    "from keras.optimizers import Adam, SGD\n",
    "from keras.metrics import categorical_crossentropy\n",
    "from keras.layers import Dense, Flatten, Dropout, BatchNormalization\n",
    "from keras.models import Model\n",
    "from sklearn.metrics import confusion_matrix\n",
    "import itertools\n",
    "import matplotlib.pyplot as plt\n",
    "%matplotlib inline\n"
   ]
  },
  {
   "cell_type": "code",
   "execution_count": null,
   "metadata": {
    "colab": {
     "base_uri": "https://localhost:8080/"
    },
    "id": "rScmIcbDex28",
    "outputId": "01370f75-f61e-463a-99bf-20046b6b107e"
   },
   "outputs": [
    {
     "name": "stdout",
     "output_type": "stream",
     "text": [
      "Mounted at /content/drive\n",
      "Found 202 images belonging to 2 classes.\n",
      "Found 103 images belonging to 2 classes.\n",
      "Found 451 images belonging to 2 classes.\n"
     ]
    }
   ],
   "source": [
    "from google.colab import drive\n",
    "drive.mount('/content/drive')\n",
    "\n",
    "train_path = '/content/drive/MyDrive/datasets/data/dogs_and_cats/train'\n",
    "valid_path = '/content/drive/MyDrive/datasets/data/dogs_and_cats/valid'\n",
    "test_path = '/content/drive/MyDrive/datasets/data/dogs_and_cats/test'\n",
    "\n",
    "train_batches = ImageDataGenerator().flow_from_directory(train_path, target_size=(224,224), batch_size=10)\n",
    "valid_batches = ImageDataGenerator().flow_from_directory(valid_path, target_size=(224,224),batch_size=30)\n",
    "test_batches = ImageDataGenerator().flow_from_directory(test_path, target_size=(224,224),batch_size=50, shuffle=False)\n"
   ]
  },
  {
   "cell_type": "code",
   "execution_count": null,
   "metadata": {
    "colab": {
     "base_uri": "https://localhost:8080/"
    },
    "id": "dawN9yAbe2uf",
    "outputId": "f862132b-7c7c-402f-9b66-4ebfaf19220e"
   },
   "outputs": [
    {
     "name": "stdout",
     "output_type": "stream",
     "text": [
      "Model: \"model_3\"\n",
      "_________________________________________________________________\n",
      " Layer (type)                Output Shape              Param #   \n",
      "=================================================================\n",
      " input_4 (InputLayer)        [(None, 224, 224, 3)]     0         \n",
      "                                                                 \n",
      " block1_conv1 (Conv2D)       (None, 224, 224, 64)      1792      \n",
      "                                                                 \n",
      " block1_conv2 (Conv2D)       (None, 224, 224, 64)      36928     \n",
      "                                                                 \n",
      " block1_pool (MaxPooling2D)  (None, 112, 112, 64)      0         \n",
      "                                                                 \n",
      " block2_conv1 (Conv2D)       (None, 112, 112, 128)     73856     \n",
      "                                                                 \n",
      " block2_conv2 (Conv2D)       (None, 112, 112, 128)     147584    \n",
      "                                                                 \n",
      " block2_pool (MaxPooling2D)  (None, 56, 56, 128)       0         \n",
      "                                                                 \n",
      " block3_conv1 (Conv2D)       (None, 56, 56, 256)       295168    \n",
      "                                                                 \n",
      " block3_conv2 (Conv2D)       (None, 56, 56, 256)       590080    \n",
      "                                                                 \n",
      " block3_conv3 (Conv2D)       (None, 56, 56, 256)       590080    \n",
      "                                                                 \n",
      " block3_pool (MaxPooling2D)  (None, 28, 28, 256)       0         \n",
      "                                                                 \n",
      " block4_conv1 (Conv2D)       (None, 28, 28, 512)       1180160   \n",
      "                                                                 \n",
      " block4_conv2 (Conv2D)       (None, 28, 28, 512)       2359808   \n",
      "                                                                 \n",
      " block4_conv3 (Conv2D)       (None, 28, 28, 512)       2359808   \n",
      "                                                                 \n",
      " block4_pool (MaxPooling2D)  (None, 14, 14, 512)       0         \n",
      "                                                                 \n",
      " block5_conv1 (Conv2D)       (None, 14, 14, 512)       2359808   \n",
      "                                                                 \n",
      " block5_conv2 (Conv2D)       (None, 14, 14, 512)       2359808   \n",
      "                                                                 \n",
      " block5_conv3 (Conv2D)       (None, 14, 14, 512)       2359808   \n",
      "                                                                 \n",
      " block5_pool (MaxPooling2D)  (None, 7, 7, 512)         0         \n",
      "                                                                 \n",
      " flatten_1 (Flatten)         (None, 25088)             0         \n",
      "                                                                 \n",
      " dense_6 (Dense)             (None, 64)                1605696   \n",
      "                                                                 \n",
      " batch_normalization_3 (Batc  (None, 64)               256       \n",
      " hNormalization)                                                 \n",
      "                                                                 \n",
      " dropout_3 (Dropout)         (None, 64)                0         \n",
      "                                                                 \n",
      " dense_7 (Dense)             (None, 2)                 130       \n",
      "                                                                 \n",
      "=================================================================\n",
      "Total params: 16,320,770\n",
      "Trainable params: 1,605,954\n",
      "Non-trainable params: 14,714,816\n",
      "_________________________________________________________________\n"
     ]
    }
   ],
   "source": [
    "base_model = vgg16.VGG16(weights=\"imagenet\", include_top=False,input_shape=(224,224,3))\n",
    "for layer in base_model.layers:\n",
    "    layer.trainable = False\n",
    "\n",
    "last_layer = base_model.get_layer(\"block5_pool\")\n",
    "last_output = last_layer.output\n",
    "\n",
    "x = Flatten()(last_output)\n",
    "x = Dense(64,activation = \"relu\")(x)\n",
    "x = BatchNormalization()(x)\n",
    "x = Dropout(0.5)(x)\n",
    "x = Dense(2,activation = \"softmax\")(x)\n",
    "\n",
    "new_model = Model(inputs=base_model.input, outputs=x)\n",
    "\n",
    "new_model.summary()"
   ]
  },
  {
   "cell_type": "code",
   "execution_count": null,
   "metadata": {
    "colab": {
     "base_uri": "https://localhost:8080/"
    },
    "id": "HeU4nQ-4ki1p",
    "outputId": "e3a7255e-feab-4965-b7d7-1a4753c8ddfe"
   },
   "outputs": [
    {
     "name": "stdout",
     "output_type": "stream",
     "text": [
      "Epoch 1/20\n"
     ]
    },
    {
     "name": "stderr",
     "output_type": "stream",
     "text": [
      "/usr/local/lib/python3.10/dist-packages/keras/optimizers/legacy/adam.py:117: UserWarning: The `lr` argument is deprecated, use `learning_rate` instead.\n",
      "  super().__init__(name, **kwargs)\n",
      "<ipython-input-15-d3f88811f438>:3: UserWarning: `Model.fit_generator` is deprecated and will be removed in a future version. Please use `Model.fit`, which supports generators.\n",
      "  new_model.fit_generator(train_batches, steps_per_epoch=4, validation_data=valid_batches, validation_steps=2,epochs=20, verbose=2)\n"
     ]
    },
    {
     "name": "stdout",
     "output_type": "stream",
     "text": [
      "4/4 - 51s - loss: 1.3599 - accuracy: 0.5250 - val_loss: 1.7523 - val_accuracy: 0.6500 - 51s/epoch - 13s/step\n",
      "Epoch 2/20\n",
      "4/4 - 58s - loss: 0.5970 - accuracy: 0.6750 - val_loss: 1.4224 - val_accuracy: 0.7167 - 58s/epoch - 14s/step\n",
      "Epoch 3/20\n",
      "4/4 - 41s - loss: 0.3723 - accuracy: 0.9000 - val_loss: 0.6876 - val_accuracy: 0.7667 - 41s/epoch - 10s/step\n",
      "Epoch 4/20\n",
      "4/4 - 37s - loss: 0.3581 - accuracy: 0.8438 - val_loss: 0.6825 - val_accuracy: 0.7833 - 37s/epoch - 9s/step\n",
      "Epoch 5/20\n",
      "4/4 - 57s - loss: 0.5087 - accuracy: 0.7000 - val_loss: 0.4652 - val_accuracy: 0.8500 - 57s/epoch - 14s/step\n",
      "Epoch 6/20\n",
      "4/4 - 56s - loss: 0.4861 - accuracy: 0.8750 - val_loss: 0.4500 - val_accuracy: 0.8500 - 56s/epoch - 14s/step\n",
      "Epoch 7/20\n",
      "4/4 - 58s - loss: 0.2614 - accuracy: 0.8750 - val_loss: 0.3202 - val_accuracy: 0.8833 - 58s/epoch - 14s/step\n",
      "Epoch 8/20\n",
      "4/4 - 57s - loss: 0.2272 - accuracy: 0.9000 - val_loss: 0.2335 - val_accuracy: 0.8833 - 57s/epoch - 14s/step\n",
      "Epoch 9/20\n",
      "4/4 - 58s - loss: 0.2380 - accuracy: 0.9000 - val_loss: 0.2264 - val_accuracy: 0.8833 - 58s/epoch - 15s/step\n",
      "Epoch 10/20\n",
      "4/4 - 57s - loss: 0.2418 - accuracy: 0.9250 - val_loss: 0.1797 - val_accuracy: 0.9333 - 57s/epoch - 14s/step\n",
      "Epoch 11/20\n",
      "4/4 - 48s - loss: 0.1278 - accuracy: 0.9750 - val_loss: 0.2600 - val_accuracy: 0.9000 - 48s/epoch - 12s/step\n",
      "Epoch 12/20\n",
      "4/4 - 40s - loss: 0.0774 - accuracy: 0.9750 - val_loss: 0.3299 - val_accuracy: 0.8833 - 40s/epoch - 10s/step\n",
      "Epoch 13/20\n",
      "4/4 - 57s - loss: 0.2434 - accuracy: 0.9250 - val_loss: 0.1822 - val_accuracy: 0.9167 - 57s/epoch - 14s/step\n",
      "Epoch 14/20\n",
      "4/4 - 40s - loss: 0.1638 - accuracy: 0.9000 - val_loss: 0.2498 - val_accuracy: 0.8833 - 40s/epoch - 10s/step\n",
      "Epoch 15/20\n",
      "4/4 - 57s - loss: 0.1250 - accuracy: 0.9250 - val_loss: 0.3479 - val_accuracy: 0.8667 - 57s/epoch - 14s/step\n",
      "Epoch 16/20\n",
      "4/4 - 53s - loss: 0.1771 - accuracy: 0.9062 - val_loss: 0.3905 - val_accuracy: 0.8500 - 53s/epoch - 13s/step\n",
      "Epoch 17/20\n",
      "4/4 - 41s - loss: 0.1733 - accuracy: 0.9500 - val_loss: 0.3286 - val_accuracy: 0.8500 - 41s/epoch - 10s/step\n",
      "Epoch 18/20\n",
      "4/4 - 40s - loss: 0.1236 - accuracy: 0.9000 - val_loss: 0.3008 - val_accuracy: 0.8833 - 40s/epoch - 10s/step\n",
      "Epoch 19/20\n",
      "4/4 - 41s - loss: 0.0804 - accuracy: 0.9750 - val_loss: 0.2636 - val_accuracy: 0.9000 - 41s/epoch - 10s/step\n",
      "Epoch 20/20\n",
      "4/4 - 61s - loss: 0.1681 - accuracy: 0.9250 - val_loss: 0.3174 - val_accuracy: 0.8667 - 61s/epoch - 15s/step\n"
     ]
    },
    {
     "data": {
      "text/plain": [
       "<keras.callbacks.History at 0x7f853d3edae0>"
      ]
     },
     "execution_count": 15,
     "metadata": {},
     "output_type": "execute_result"
    }
   ],
   "source": [
    "new_model.compile(Adam(lr=0.0001), loss='categorical_crossentropy', metrics=['accuracy'])\n",
    "\n",
    "new_model.fit_generator(train_batches, steps_per_epoch=4, validation_data=valid_batches, validation_steps=2,epochs=20, verbose=2)"
   ]
  },
  {
   "cell_type": "code",
   "execution_count": null,
   "metadata": {
    "colab": {
     "base_uri": "https://localhost:8080/"
    },
    "id": "5djy_jn5J5on",
    "outputId": "f3c62256-83d4-4675-df86-78e1ce99d936"
   },
   "outputs": [
    {
     "name": "stdout",
     "output_type": "stream",
     "text": [
      "10/10 [==============================] - 181s 18s/step - loss: 0.1977 - accuracy: 0.9180\n"
     ]
    },
    {
     "data": {
      "text/plain": [
       "[0.1976603865623474, 0.9179601073265076]"
      ]
     },
     "execution_count": 27,
     "metadata": {},
     "output_type": "execute_result"
    }
   ],
   "source": [
    "new_model.evaluate(test_batches)"
   ]
  },
  {
   "cell_type": "code",
   "execution_count": null,
   "metadata": {
    "id": "Q0102N8-NZN0"
   },
   "outputs": [],
   "source": []
  }
 ],
 "metadata": {
  "colab": {
   "provenance": []
  },
  "kernelspec": {
   "display_name": "Python 3 (ipykernel)",
   "language": "python",
   "name": "python3"
  },
  "language_info": {
   "name": "python"
  }
 },
 "nbformat": 4,
 "nbformat_minor": 1
}
